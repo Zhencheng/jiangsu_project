{
 "cells": [
  {
   "cell_type": "code",
   "execution_count": 2,
   "id": "6fd2eff0",
   "metadata": {},
   "outputs": [
    {
     "name": "stdout",
     "output_type": "stream",
     "text": [
      "簇4.0的平均相似度: 18253.019817055072\n",
      "簇4.0的平均相似度: 19628.261636946518\n",
      "簇4.0的平均相似度: 20039.361371442315\n",
      "簇4.0的平均相似度: 19121.530607916575\n",
      "簇5.0的平均相似度: 16502.84992763208\n",
      "簇2.0的平均相似度: 13125.543436029058\n",
      "簇2.0的平均相似度: 15379.633360234666\n",
      "簇2.0的平均相似度: 28345.036094659125\n",
      "簇2.0的平均相似度: 22889.699770946125\n",
      "簇2.0的平均相似度: 14001.927356211738\n",
      "簇2.0的平均相似度: 16171.420892207334\n",
      "簇2.0的平均相似度: 16180.65274108946\n",
      "簇2.0的平均相似度: 17018.452611103312\n",
      "簇2.0的平均相似度: 15444.534942136805\n"
     ]
    }
   ],
   "source": [
    "from dtaidistance import dtw\n",
    "import numpy as np\n",
    "import pandas as pd\n",
    "\n",
    "# 假设df1为load_samples_dis_delete，df2为allbus_p_C1-C5\n",
    "# 请根据实际情况读取数据集\n",
    "df1 = pd.read_csv('load_samples_dis  delete.csv')\n",
    "df2 = pd.read_csv('allbus_p_C1-C5.csv')\n",
    "\n",
    "# 遍历df1中的每一行\n",
    "for index, row in df1.iterrows():\n",
    "    cluster = row['Cluster']\n",
    "    similarities = []\n",
    "    # 在df2中找到相同Cluster的行\n",
    "    for _, matched_row in df2[df2['Cluster'] == cluster].iterrows():\n",
    "        # 计算两行之间的DTW相似度\n",
    "        distance = dtw.distance(row[:16], matched_row[:16])\n",
    "        similarities.append(distance)\n",
    "    # 计算平均相似度\n",
    "    \n",
    "    average_similarity = np.mean(similarities)\n",
    "    print(f'簇{cluster}的平均相似度: {average_similarity}')\n"
   ]
  },
  {
   "cell_type": "code",
   "execution_count": 36,
   "id": "ea7dc8cf",
   "metadata": {},
   "outputs": [
    {
     "name": "stdout",
     "output_type": "stream",
     "text": [
      "Average similarity for Cluster 4.0: 18253.019817055072\n",
      "Average similarity for Cluster 4.0: 19628.261636946518\n",
      "Average similarity for Cluster 4.0: 20039.361371442315\n",
      "Average similarity for Cluster 4.0: 19121.530607916575\n",
      "Average similarity for Cluster 5.0: 16502.84992763208\n",
      "Average similarity for Cluster 2.0: 13125.543436029058\n",
      "Average similarity for Cluster 2.0: 15379.633360234666\n",
      "Average similarity for Cluster 2.0: 28345.036094659125\n",
      "Average similarity for Cluster 2.0: 22889.699770946125\n",
      "Average similarity for Cluster 2.0: 14001.927356211738\n",
      "Average similarity for Cluster 2.0: 16171.420892207334\n",
      "Average similarity for Cluster 2.0: 16180.65274108946\n",
      "Average similarity for Cluster 2.0: 17018.452611103312\n",
      "Average similarity for Cluster 2.0: 15444.534942136805\n"
     ]
    }
   ],
   "source": [
    "from dtaidistance import dtw\n",
    "import numpy as np\n",
    "import pandas as pd\n",
    "\n",
    "def calculate_dtw_similarity(df1_path, df2_path):\n",
    "    try:\n",
    "        df1 = pd.read_csv(df1_path)\n",
    "        df2 = pd.read_csv(df2_path)\n",
    "    except FileNotFoundError as e:\n",
    "        print(f\"Error: {e}\")\n",
    "        return\n",
    "\n",
    "    df2_groups = df2.groupby('Cluster')\n",
    "    \n",
    "    for index, row in df1.iterrows():\n",
    "        cluster = row['Cluster']\n",
    "        if cluster in df2_groups.groups:\n",
    "            matched_rows = df2_groups.get_group(cluster)\n",
    "            similarities = [\n",
    "                dtw.distance(row[:16], matched_row[:16]) \n",
    "                for _, matched_row in matched_rows.iterrows()\n",
    "            ]\n",
    "            average_similarity = np.mean(similarities)\n",
    "            print(f'Average similarity for Cluster {cluster}: {average_similarity}')\n",
    "        else:\n",
    "            print(f'No matching Cluster {cluster} found in df2.')\n",
    "\n",
    "calculate_dtw_similarity('load_samples_dis  delete.csv', 'allbus_p_C1-C5.csv')\n"
   ]
  },
  {
   "cell_type": "code",
   "execution_count": 39,
   "id": "a896393f",
   "metadata": {},
   "outputs": [
    {
     "name": "stderr",
     "output_type": "stream",
     "text": [
      "The compiled dtaidistance C library is not available.\n",
      "See the documentation for alternative installation options.\n"
     ]
    },
    {
     "ename": "Exception",
     "evalue": "The compiled dtaidistance C library is not available.\nSee the documentation for alternative installation options.",
     "output_type": "error",
     "traceback": [
      "\u001b[1;31m---------------------------------------------------------------------------\u001b[0m",
      "\u001b[1;31mException\u001b[0m                                 Traceback (most recent call last)",
      "Cell \u001b[1;32mIn[39], line 20\u001b[0m\n\u001b[0;32m     18\u001b[0m     series2 \u001b[38;5;241m=\u001b[39m np\u001b[38;5;241m.\u001b[39marray(matched_row[:\u001b[38;5;241m16\u001b[39m])\n\u001b[0;32m     19\u001b[0m     \u001b[38;5;66;03m# 计算两行之间的DTW相似度\u001b[39;00m\n\u001b[1;32m---> 20\u001b[0m     distance \u001b[38;5;241m=\u001b[39m dtw\u001b[38;5;241m.\u001b[39mdistance_fast(series1, series2)\n\u001b[0;32m     21\u001b[0m     similarities\u001b[38;5;241m.\u001b[39mappend(distance)\n\u001b[0;32m     22\u001b[0m \u001b[38;5;66;03m# 计算平均相似度\u001b[39;00m\n",
      "File \u001b[1;32m~\\AppData\\Roaming\\Python\\Python311\\site-packages\\dtaidistance\\dtw.py:355\u001b[0m, in \u001b[0;36mdistance_fast\u001b[1;34m(s1, s2, window, max_dist, max_step, max_length_diff, penalty, psi, use_pruning, only_ub, inner_dist)\u001b[0m\n\u001b[0;32m    345\u001b[0m \u001b[38;5;28;01mdef\u001b[39;00m \u001b[38;5;21mdistance_fast\u001b[39m(s1, s2, window\u001b[38;5;241m=\u001b[39m\u001b[38;5;28;01mNone\u001b[39;00m, max_dist\u001b[38;5;241m=\u001b[39m\u001b[38;5;28;01mNone\u001b[39;00m,\n\u001b[0;32m    346\u001b[0m                   max_step\u001b[38;5;241m=\u001b[39m\u001b[38;5;28;01mNone\u001b[39;00m, max_length_diff\u001b[38;5;241m=\u001b[39m\u001b[38;5;28;01mNone\u001b[39;00m, penalty\u001b[38;5;241m=\u001b[39m\u001b[38;5;28;01mNone\u001b[39;00m, psi\u001b[38;5;241m=\u001b[39m\u001b[38;5;28;01mNone\u001b[39;00m, use_pruning\u001b[38;5;241m=\u001b[39m\u001b[38;5;28;01mFalse\u001b[39;00m, only_ub\u001b[38;5;241m=\u001b[39m\u001b[38;5;28;01mFalse\u001b[39;00m,\n\u001b[0;32m    347\u001b[0m                   inner_dist\u001b[38;5;241m=\u001b[39minnerdistance\u001b[38;5;241m.\u001b[39mdefault):\n\u001b[0;32m    348\u001b[0m \u001b[38;5;250m    \u001b[39m\u001b[38;5;124;03m\"\"\"Same as :meth:`distance` but with different defaults to chose the fast C-based version of\u001b[39;00m\n\u001b[0;32m    349\u001b[0m \u001b[38;5;124;03m    the implementation (use_c = True).\u001b[39;00m\n\u001b[0;32m    350\u001b[0m \n\u001b[1;32m   (...)\u001b[0m\n\u001b[0;32m    353\u001b[0m \u001b[38;5;124;03m    ``array.array('d', [1,2,3])``\u001b[39;00m\n\u001b[0;32m    354\u001b[0m \u001b[38;5;124;03m    \"\"\"\u001b[39;00m\n\u001b[1;32m--> 355\u001b[0m     _check_library(raise_exception\u001b[38;5;241m=\u001b[39m\u001b[38;5;28;01mTrue\u001b[39;00m)\n\u001b[0;32m    356\u001b[0m     \u001b[38;5;66;03m# Check that Numpy arrays for C contiguous\u001b[39;00m\n\u001b[0;32m    357\u001b[0m     s1 \u001b[38;5;241m=\u001b[39m util_numpy\u001b[38;5;241m.\u001b[39mverify_np_array(s1)\n",
      "File \u001b[1;32m~\\AppData\\Roaming\\Python\\Python311\\site-packages\\dtaidistance\\dtw.py:95\u001b[0m, in \u001b[0;36m_check_library\u001b[1;34m(include_omp, raise_exception)\u001b[0m\n\u001b[0;32m     93\u001b[0m     logger\u001b[38;5;241m.\u001b[39merror(msg)\n\u001b[0;32m     94\u001b[0m     \u001b[38;5;28;01mif\u001b[39;00m raise_exception:\n\u001b[1;32m---> 95\u001b[0m         \u001b[38;5;28;01mraise\u001b[39;00m \u001b[38;5;167;01mException\u001b[39;00m(msg)\n\u001b[0;32m     96\u001b[0m \u001b[38;5;28;01mif\u001b[39;00m include_omp \u001b[38;5;129;01mand\u001b[39;00m (dtw_cc_omp \u001b[38;5;129;01mis\u001b[39;00m \u001b[38;5;28;01mNone\u001b[39;00m \u001b[38;5;129;01mor\u001b[39;00m \u001b[38;5;129;01mnot\u001b[39;00m dtw_cc_omp\u001b[38;5;241m.\u001b[39mis_openmp_supported()):\n\u001b[0;32m     97\u001b[0m     msg \u001b[38;5;241m=\u001b[39m \u001b[38;5;124m\"\u001b[39m\u001b[38;5;124mThe compiled dtaidistance C-OMP library \u001b[39m\u001b[38;5;124m\"\u001b[39m\n",
      "\u001b[1;31mException\u001b[0m: The compiled dtaidistance C library is not available.\nSee the documentation for alternative installation options."
     ]
    }
   ],
   "source": [
    "from dtaidistance import dtw\n",
    "import numpy as np\n",
    "import pandas as pd\n",
    "\n",
    "# 假设df1为load_samples_dis_delete，df2为allbus_p_C1-C5\n",
    "# 请根据实际情况读取数据集\n",
    "df1 = pd.read_csv('load_samples_dis  delete.csv')\n",
    "df2 = pd.read_csv('allbus_p_C1-C5.csv')\n",
    "\n",
    "# 遍历df1中的每一行\n",
    "for index, row in df1.iterrows():\n",
    "    cluster = row['Cluster']\n",
    "    similarities = []\n",
    "    # 在df2中找到相同Cluster的行\n",
    "    for _, matched_row in df2[df2['Cluster'] == cluster].iterrows():\n",
    "        # 先将Pandas Series转换成numpy数组\n",
    "        series1 = np.array(row[:16])\n",
    "        series2 = np.array(matched_row[:16])\n",
    "        # 计算两行之间的DTW相似度\n",
    "        distance = dtw.distance_fast(series1, series2)\n",
    "        similarities.append(distance)\n",
    "    # 计算平均相似度\n",
    "    average_similarity = np.mean(similarities)\n",
    "    print(f'Average similarity for Cluster {cluster}: {average_similarity}')\n"
   ]
  },
  {
   "cell_type": "code",
   "execution_count": 44,
   "id": "469cc12b",
   "metadata": {},
   "outputs": [],
   "source": [
    "from dtaidistance import dtw\n",
    "import numpy as np\n",
    "s1 = np.array([0, 0, 1, 2, 1, 0, 1, 0, 0], dtype=np.double)\n",
    "s2 = np.array([0.0, 1, 2, 0, 0, 0, 0, 0, 0])\n",
    "d = dtw.distance(s1, s2, use_pruning=True)"
   ]
  },
  {
   "cell_type": "code",
   "execution_count": null,
   "id": "65b3f33b",
   "metadata": {},
   "outputs": [],
   "source": []
  }
 ],
 "metadata": {
  "kernelspec": {
   "display_name": "Python 3 (ipykernel)",
   "language": "python",
   "name": "python3"
  },
  "language_info": {
   "codemirror_mode": {
    "name": "ipython",
    "version": 3
   },
   "file_extension": ".py",
   "mimetype": "text/x-python",
   "name": "python",
   "nbconvert_exporter": "python",
   "pygments_lexer": "ipython3",
   "version": "3.11.5"
  }
 },
 "nbformat": 4,
 "nbformat_minor": 5
}
